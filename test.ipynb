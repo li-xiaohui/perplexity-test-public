{
 "cells": [
  {
   "cell_type": "code",
   "execution_count": 4,
   "metadata": {},
   "outputs": [
    {
     "name": "stdout",
     "output_type": "stream",
     "text": [
      "Requirement already satisfied: python-dotenv in c:\\users\\gic_test_2\\documents\\anaconda\\lib\\site-packages (0.21.0)\n"
     ]
    }
   ],
   "source": [
    "# !pip install python-dotenv\n",
    "# set PERPLEXITY_API_KEY"
   ]
  },
  {
   "cell_type": "code",
   "execution_count": 7,
   "metadata": {},
   "outputs": [],
   "source": [
    "\n",
    "from dotenv import load_dotenv\n",
    "load_dotenv()\n",
    "import os"
   ]
  },
  {
   "cell_type": "code",
   "execution_count": 9,
   "metadata": {},
   "outputs": [],
   "source": [
    "# Replace with your actual API key\n",
    "API_KEY = os.getenv(\"PERPLEXITY_API_KEY\")"
   ]
  },
  {
   "cell_type": "code",
   "execution_count": null,
   "metadata": {},
   "outputs": [],
   "source": [
    "\n",
    "headers = {\n",
    "    \"Authorization\": f\"Bearer {API_KEY}\",\n",
    "    \"Content-Type\": \"application/json\"\n",
    "}"
   ]
  },
  {
   "cell_type": "code",
   "execution_count": 2,
   "metadata": {},
   "outputs": [
    {
     "name": "stdout",
     "output_type": "stream",
     "text": [
      "Response from Perplexity: The capital of France is **Paris**. It has been the capital since its liberation in 1944, with the exception of a brief period during World War II when the capital was temporarily moved to Vichy[1][4].\n"
     ]
    }
   ],
   "source": [
    "import requests\n",
    "\n",
    "# Define the endpoint and headers\n",
    "url = \"https://api.perplexity.ai/chat/completions\"\n",
    "\n",
    "# Define the request payload\n",
    "payload = {\n",
    "    \"model\": \"sonar\",  # or pplx-7b, pplx-70b, pplx-70b-online\n",
    "    \"messages\": [\n",
    "        {\n",
    "            \"role\": \"user\",\n",
    "            \"content\": \"What is the capital of France?\"\n",
    "        }\n",
    "    ],\n",
    "    \"temperature\": 0.7,\n",
    "    \"top_p\": 1,\n",
    "    \"max_tokens\": 200\n",
    "}\n",
    "\n",
    "# Send the POST request\n",
    "response = requests.post(url, headers=headers, json=payload)\n",
    "\n",
    "# Print the response\n",
    "if response.status_code == 200:\n",
    "    result = response.json()\n",
    "    reply = result['choices'][0]['message']['content']\n",
    "    print(\"Response from Perplexity:\", reply)\n",
    "else:\n",
    "    print(\"Error:\", response.status_code, response.text)\n"
   ]
  },
  {
   "cell_type": "code",
   "execution_count": 10,
   "metadata": {},
   "outputs": [
    {
     "name": "stdout",
     "output_type": "stream",
     "text": [
      "{\n",
      "    \"id\": \"f29120af-438b-476f-8799-5e6d30505bf6\",\n",
      "    \"model\": \"sonar-deep-research\",\n",
      "    \"created\": 1744680435,\n",
      "    \"usage\": {\n",
      "        \"prompt_tokens\": 22,\n",
      "        \"completion_tokens\": 500,\n",
      "        \"total_tokens\": 522,\n",
      "        \"citation_tokens\": 9404,\n",
      "        \"num_search_queries\": 7,\n",
      "        \"reasoning_tokens\": 20408\n",
      "    },\n",
      "    \"citations\": [\n",
      "        \"https://taxfoundation.org/research/all/federal/trump-tariffs-trade-war/\",\n",
      "        \"https://www.jpmorgan.com/insights/global-research/current-events/us-tariffs\",\n",
      "        \"https://www.chathamhouse.org/2025/03/trumps-tariff-policy-undermines-his-own-agenda-and-foundations-us-economic-power\",\n",
      "        \"https://budgetmodel.wharton.upenn.edu/issues/2025/4/10/economic-effects-of-president-trumps-tariffs\",\n",
      "        \"https://www.pbs.org/newshour/economy/trump-favors-huge-new-tariffs-how-do-they-work\",\n",
      "        \"https://www.cbsnews.com/news/which-products-most-affected-tariffs/\",\n",
      "        \"https://www.bbvaresearch.com/en/publicaciones/global-the-economic-impact-of-trumps-tariffs/\",\n",
      "        \"https://www.oxfordeconomics.com/resource/trump-tariff-a-comprehensive-research-report/\",\n",
      "        \"https://www.cfr.org/article/what-trumps-trade-war-would-mean-nine-charts\",\n",
      "        \"https://www.cepii.fr/PDF_PUB/pb/2024/pb2024-49.pdf\",\n",
      "        \"https://time.com/7275987/trump-tariffs-global-economy-recession-trade-war-asia-world-impacts/\"\n",
      "    ],\n",
      "    \"object\": \"chat.completion\",\n",
      "    \"choices\": [\n",
      "        {\n",
      "            \"index\": 0,\n",
      "            \"finish_reason\": \"length\",\n",
      "            \"message\": {\n",
      "                \"role\": \"assistant\",\n",
      "                \"content\": \"<think>\\nOkay, so I need to analyze the impact of Trump's tariffs on the global economy over the next five years. Let me start by breaking down the information from the search results provided.\\n\\nFirst, looking at source [1] from the Tax Foundation, they estimate that Trump's tariffs will raise $2.2 trillion over a decade but reduce US GDP by 0.8% before retaliation, and 1.0% after retaliation. They also mention a significant reduction in after-tax income and job losses. Source [4], the Wharton model, projects even more severe impacts, like an 8% GDP reduction and a $58k lifetime loss for middle-income households. That's a big difference, so I need to reconcile these figures. Maybe the Wharton model accounts for more dynamic effects or different assumptions about how the tariffs affect capital flows and investment.\\n\\nSource [2], J.P. Morgan, points out that the tariffs could lead to a global recession, with downgraded growth forecasts, especially for China. They mention a 145% tariff on China, which would drastically reduce imports and hurt both economies. Source [10], the CEPII policy brief, predicts a 3.4% decrease in world trade and a 0.5% drop in global GDP, with the US and China each losing 1.3% in GDP. This aligns with J.P. Morgan's analysis but is less severe than Wharton's 8% US GDP drop. I should check the time frames\\u2014Wharton's might be looking further out, maybe 30 years, while others are 5-10 years.\\n\\nSource [3] from Chatham House argues that tariffs undermine US economic priorities by increasing prices and hurting manufacturing more than helping. They cite the 2018 steel tariffs as an example where job losses in steel-using industries outweighed gains. This suggests that the current tariffs could have similar or worse effects, especially with broader application.\\n\\nSource [5] from PBS and [6] from CBS News give examples of specific tariffs, like 60% on China and 20% on others, and mention the potential for price increases on consumer goods. The CBS article references the Smoot-Hawley Tariff Act, warning of a trade war akin to the 1930s. Historical context is important here\\u2014comparing current policies to past ones can provide depth.\\n\\nSource [7], BBVA Research, and [8], Oxford Economics, both emphasize that\"\n",
      "            },\n",
      "            \"delta\": {\n",
      "                \"role\": \"assistant\",\n",
      "                \"content\": \"\"\n",
      "            }\n",
      "        }\n",
      "    ]\n",
      "}\n"
     ]
    }
   ],
   "source": [
    "import requests\n",
    "import json\n",
    "\n",
    "url = \"https://api.perplexity.ai/chat/completions\"\n",
    "\n",
    "payload = {\n",
    "    \"model\": \"sonar-deep-research\",\n",
    "    \"messages\": [\n",
    "        {\"role\": \"user\", \n",
    "         \"content\": \"Provide an in-depth analysis of the impact of Trump's tariff on global economy over the next 5 years.\"}\n",
    "    ],\n",
    "    \"max_tokens\": 500\n",
    "}\n",
    "\n",
    "response = requests.post(url, json=payload, headers=headers)\n",
    "# Pretty print the JSON response\n",
    "print(json.dumps(response.json(), indent=4))"
   ]
  }
 ],
 "metadata": {
  "kernelspec": {
   "display_name": "base",
   "language": "python",
   "name": "python3"
  },
  "language_info": {
   "codemirror_mode": {
    "name": "ipython",
    "version": 3
   },
   "file_extension": ".py",
   "mimetype": "text/x-python",
   "name": "python",
   "nbconvert_exporter": "python",
   "pygments_lexer": "ipython3",
   "version": "3.12.7"
  }
 },
 "nbformat": 4,
 "nbformat_minor": 2
}
